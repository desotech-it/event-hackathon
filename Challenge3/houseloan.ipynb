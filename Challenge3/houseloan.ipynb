{
 "cells": [
  {
   "cell_type": "code",
   "execution_count": 8,
   "metadata": {},
   "outputs": [
    {
     "data": {
      "text/plain": [
       "True"
      ]
     },
     "execution_count": 8,
     "metadata": {},
     "output_type": "execute_result"
    }
   ],
   "source": [
    "import os\n",
    "import re\n",
    "import json\n",
    "from azure.storage.blob import BlobServiceClient\n",
    "from azure.cosmos import CosmosClient, PartitionKey, exceptions\n",
    "from azure.ai.formrecognizer import DocumentAnalysisClient\n",
    "from azure.core.credentials import AzureKeyCredential\n",
    "from dotenv import load_dotenv\n",
    "# Load environment variables\n",
    "load_dotenv()"
   ]
  },
  {
   "cell_type": "code",
   "execution_count": 9,
   "metadata": {},
   "outputs": [],
   "source": [
    "# Azure Blob Storage details\n",
    "STORAGE_CONNECTION_STRING = os.getenv(\"STORAGE_CONNECTION_STRING\")\n",
    "COSMOS_ENDPOINT = os.getenv(\"COSMOS_ENDPOINT\")\n",
    "COSMOS_KEY = os.getenv(\"COSMOS_KEY\")\n",
    " \n",
    "DOC_AI_ENDPOINT = os.getenv(\"DOC_AI_ENDPOINT\")\n",
    "DOC_AI_KEY = os.getenv(\"DOC_AI_KEY\")"
   ]
  },
  {
   "cell_type": "code",
   "execution_count": 10,
   "metadata": {},
   "outputs": [],
   "source": [
    " \n",
    "# Retrieve houseloan.pdf from Blob\n",
    "def get_pdf_from_blob(blob_name, container_name=\"data\"):\n",
    "    try:\n",
    "        blob_service_client = BlobServiceClient.from_connection_string(STORAGE_CONNECTION_STRING)\n",
    "        container_client = blob_service_client.get_container_client(container_name)\n",
    "        blob_client = container_client.get_blob_client(blob_name)\n",
    "        pdf_content = blob_client.download_blob().readall()\n",
    "        return pdf_content\n",
    "    except Exception as e:\n",
    "        raise RuntimeError(f\"Failed to retrieve blob '{blob_name}' from container '{container_name}': {e}\")\n",
    " \n"
   ]
  },
  {
   "cell_type": "code",
   "execution_count": 11,
   "metadata": {},
   "outputs": [],
   "source": [
    "# Analyze the PDF with Azure Document Intelligence\n",
    "def analyze_pdf(pdf_content):\n",
    "    try:\n",
    "        document_analysis_client = DocumentAnalysisClient(\n",
    "            endpoint=DOC_AI_ENDPOINT,\n",
    "            credential=AzureKeyCredential(DOC_AI_KEY)\n",
    "        )\n",
    "        poller = document_analysis_client.begin_analyze_document(\"prebuilt-document\", pdf_content)\n",
    "        result = poller.result()\n",
    "        return result\n",
    "    except Exception as e:\n",
    "        raise RuntimeError(f\"Failed to analyze PDF: {e}\")\n"
   ]
  },
  {
   "cell_type": "code",
   "execution_count": 12,
   "metadata": {},
   "outputs": [],
   "source": [
    "\n",
    "# Process extracted content\n",
    "def process_analyzed_content(analyzed_result):\n",
    "    content = []\n",
    "    for page in analyzed_result.pages:\n",
    "        for line in page.lines:\n",
    "            content.append(line.content.strip())\n",
    "    full_text = \" \".join(content)\n",
    " \n",
    "    # Debug: Stampa il testo grezzo estratto\n",
    "    print(\"Extracted Full Text:\", full_text)\n",
    " \n",
    "    # Se non viene estratto alcun testo\n",
    "    if not full_text.strip():\n",
    "        raise RuntimeError(\"No text content extracted from the PDF.\")\n",
    " \n",
    "    # Pattern aggiornato per sezioni numerate con contenuti multilinea\n",
    "    section_pattern = r\"(\\d+\\.\\s[A-Za-z\\s]+)(.*?)(?=\\d+\\.\\s[A-Za-z\\s]+|$)\"\n",
    "    matches = re.findall(section_pattern, full_text, re.DOTALL)\n",
    " \n",
    "    # Creare una struttura per salvare i dati\n",
    "    structured_data = {}\n",
    "    for section_title, section_content in matches:\n",
    "        structured_data[section_title.strip()] = section_content.strip()\n",
    " \n",
    "    # Debug: Mostra i dati strutturati\n",
    "    print(\"Structured Data:\", json.dumps(structured_data, indent=4))\n",
    "   \n",
    "    return structured_data\n",
    " \n",
    " \n",
    " "
   ]
  },
  {
   "cell_type": "code",
   "execution_count": 14,
   "metadata": {},
   "outputs": [],
   "source": [
    "\n",
    "# Upload to Cosmos DB\n",
    "# Upload to Cosmos DB\n",
    "def upload_to_cosmos_db(data, container_name, document_id):\n",
    "    \"\"\"\n",
    "    Uploads data to the specified container in ContosoDB.\n",
    " \n",
    "    Args:\n",
    "        data (dict): The structured data to upload.\n",
    "        container_name (str): The name of the Cosmos DB container (e.g., \"HouseLoanTerms\").\n",
    "        document_id (str): The unique identifier for the document.\n",
    "    \"\"\"\n",
    "    client = CosmosClient(COSMOS_ENDPOINT, COSMOS_KEY)\n",
    "    database = client.create_database_if_not_exists(id=\"ContosoDB\")\n",
    "    container = database.create_container_if_not_exists(\n",
    "        id=container_name,\n",
    "        partition_key=PartitionKey(path=\"/id\"),\n",
    "        offer_throughput=400\n",
    "    )\n",
    "    # Add the document ID to the data\n",
    "    data[\"id\"] = document_id\n",
    "    try:\n",
    "        container.create_item(body=data)\n",
    "        print(f\"Data uploaded successfully to ContosoDB, container '{container_name}': {data['id']}\")\n",
    "    except exceptions.CosmosResourceExistsError:\n",
    "        print(f\"Item with ID {data['id']} already exists in ContosoDB, container '{container_name}'.\")\n",
    " \n"
   ]
  },
  {
   "cell_type": "code",
   "execution_count": 15,
   "metadata": {},
   "outputs": [
    {
     "name": "stdout",
     "output_type": "stream",
     "text": [
      "Extracted Full Text: Contoso Bank - House Loan Terms and Conditions 1. Introduction These terms and conditions govern the house loans provided by Contoso Bank (referred to as \"the Bank\") to customers (referred to as \"Borrower\"). By applying for and accepting a house loan, the Borrower agrees to the terms and conditions outlined herein. 2. Loan Amount and Purpose · The loan is granted exclusively for the purpose of purchasing a residential property, refinancing an existing mortgage, or for approved home improvement projects. . The maximum loan amount will be determined by the Bank based on the Borrower's financial profile, creditworthiness, and property value. 3. Interest Rates . Fixed Rate: The interest rate remains constant throughout the loan term. . Variable Rate: The interest rate may fluctuate based on market conditions and will be tied to a publicly available index. Changes in the interest rate will affect the Borrower's monthly payments. . Interest rates are disclosed at the time of loan approval and are subject to change based on prevailing economic conditions until the loan agreement is signed. 4. Loan Tenure . The loan term may range from 5 to 30 years, depending on the loan product and the Borrower's preference. · Early repayment of the loan is allowed, but prepayment penalties may apply based on the loan terms. 5. Monthly Repayments . Monthly repayments consist of both principal and interest, calculated over the loan term. . Payments are due on the specified date each month. If the due date falls on a weekend or public holiday, payment must be made on the next business day. . The Borrower is responsible for ensuring that sufficient funds are available in their designated account for automatic deductions. 6. Late Payments . A late fee of 1.5% of the overdue amount will be charged if the monthly repayment is not received by the due date. . If payments are consistently late or missed, the Bank reserves the right to initiate legal action and may foreclose on the property. 7. Loan Security . The property being financed will serve as collateral for the loan. . The Borrower must maintain the property in good condition and not transfer or sell the property without the Bank's consent. · Adequate homeowner's insurance is required to protect the property against loss or damage. The Bank must be listed as a beneficiary on the insurance policy. 8. Loan Processing Fees . An origination fee of up to 1% of the loan amount may be charged at the time of loan approval. · Additional fees, such as property valuation fees, legal fees, and administrative fees, may also apply. 9. Default and Foreclosure · The Borrower is considered in default if: o Three or more consecutive monthly payments are missed. o There is a significant breach of any of the loan terms. . In the event of default, the Bank reserves the right to demand the immediate repayment of the outstanding loan balance, including interest and fees. . Foreclosure proceedings may be initiated, and the property may be sold to recover the outstanding loan amount. 10. Early Repayment and Prepayment Penalties . The Borrower may repay the loan before the scheduled term without penalty for certain loan products. However, for fixed-rate loans, an early repayment fee may apply. . The exact terms regarding early repayment will be disclosed in the loan agreement. 11. Changes to Terms and Conditions . The Bank reserves the right to modify these terms and conditions. The Borrower will be notified of any changes in writing or via email. · Any changes in interest rates or fees will apply to new loans or renewals. Existing loans will remain subject to the original terms unless otherwise agreed. 12. Insurance Requirements . The Borrower must obtain and maintain adequate homeowner's insurance for the entire term of the loan. . The Bank may request proof of insurance at any time during the loan period. Failure to maintain insurance may result in the Bank purchasing insurance on behalf of the Borrower and charging the Borrower for this cost. 13. Loan Cancellation . The Borrower has the right to cancel the loan application within 7 days of signing the agreement without penalty. · Cancellation after this period may incur fees as determined by the Bank. 14. Dispute Resolution · Any disputes arising from this loan agreement must be resolved through negotiation in the first instance. . If the dispute cannot be resolved, it will be referred to arbitration in accordance with the laws of the jurisdiction in which the property is located. 15. Governing Law . These terms and conditions are governed by the laws of the jurisdiction in which the property is located. · Any legal proceedings regarding this loan must be brought within the jurisdiction of that location. 16. Contact Information For any questions or clarifications regarding the house loan, Borrowers can contact: · Customer Service: +1 (800) 123-4567 . Email: home.loans@contosobank.com · Address: Contoso Bank, 123 Main Street, City, Country\n",
      "Structured Data: {\n",
      "    \"1. Introduction These terms and conditions govern the house loans provided by Contoso Bank\": \"(referred to as \\\"the Bank\\\") to customers (referred to as \\\"Borrower\\\"). By applying for and accepting a house loan, the Borrower agrees to the terms and conditions outlined herein.\",\n",
      "    \"2. Loan Amount and Purpose\": \"\\u00b7 The loan is granted exclusively for the purpose of purchasing a residential property, refinancing an existing mortgage, or for approved home improvement projects. . The maximum loan amount will be determined by the Bank based on the Borrower's financial profile, creditworthiness, and property value.\",\n",
      "    \"3. Interest Rates\": \". Fixed Rate: The interest rate remains constant throughout the loan term. . Variable Rate: The interest rate may fluctuate based on market conditions and will be tied to a publicly available index. Changes in the interest rate will affect the Borrower's monthly payments. . Interest rates are disclosed at the time of loan approval and are subject to change based on prevailing economic conditions until the loan agreement is signed.\",\n",
      "    \"4. Loan Tenure\": \". The loan term may range from 5 to 30 years, depending on the loan product and the Borrower's preference. \\u00b7 Early repayment of the loan is allowed, but prepayment penalties may apply based on the loan terms.\",\n",
      "    \"5. Monthly Repayments\": \". Monthly repayments consist of both principal and interest, calculated over the loan term. . Payments are due on the specified date each month. If the due date falls on a weekend or public holiday, payment must be made on the next business day. . The Borrower is responsible for ensuring that sufficient funds are available in their designated account for automatic deductions.\",\n",
      "    \"6. Late Payments\": \". A late fee of 1.5% of the overdue amount will be charged if the monthly repayment is not received by the due date. . If payments are consistently late or missed, the Bank reserves the right to initiate legal action and may foreclose on the property.\",\n",
      "    \"7. Loan Security\": \". The property being financed will serve as collateral for the loan. . The Borrower must maintain the property in good condition and not transfer or sell the property without the Bank's consent. \\u00b7 Adequate homeowner's insurance is required to protect the property against loss or damage. The Bank must be listed as a beneficiary on the insurance policy.\",\n",
      "    \"8. Loan Processing Fees\": \". An origination fee of up to 1% of the loan amount may be charged at the time of loan approval. \\u00b7 Additional fees, such as property valuation fees, legal fees, and administrative fees, may also apply.\",\n",
      "    \"9. Default and Foreclosure\": \"\\u00b7 The Borrower is considered in default if: o Three or more consecutive monthly payments are missed. o There is a significant breach of any of the loan terms. . In the event of default, the Bank reserves the right to demand the immediate repayment of the outstanding loan balance, including interest and fees. . Foreclosure proceedings may be initiated, and the property may be sold to recover the outstanding loan amount.\",\n",
      "    \"10. Early Repayment and Prepayment Penalties\": \". The Borrower may repay the loan before the scheduled term without penalty for certain loan products. However, for fixed-rate loans, an early repayment fee may apply. . The exact terms regarding early repayment will be disclosed in the loan agreement.\",\n",
      "    \"11. Changes to Terms and Conditions\": \". The Bank reserves the right to modify these terms and conditions. The Borrower will be notified of any changes in writing or via email. \\u00b7 Any changes in interest rates or fees will apply to new loans or renewals. Existing loans will remain subject to the original terms unless otherwise agreed.\",\n",
      "    \"12. Insurance Requirements\": \". The Borrower must obtain and maintain adequate homeowner's insurance for the entire term of the loan. . The Bank may request proof of insurance at any time during the loan period. Failure to maintain insurance may result in the Bank purchasing insurance on behalf of the Borrower and charging the Borrower for this cost.\",\n",
      "    \"13. Loan Cancellation\": \". The Borrower has the right to cancel the loan application within 7 days of signing the agreement without penalty. \\u00b7 Cancellation after this period may incur fees as determined by the Bank.\",\n",
      "    \"14. Dispute Resolution\": \"\\u00b7 Any disputes arising from this loan agreement must be resolved through negotiation in the first instance. . If the dispute cannot be resolved, it will be referred to arbitration in accordance with the laws of the jurisdiction in which the property is located.\",\n",
      "    \"15. Governing Law\": \". These terms and conditions are governed by the laws of the jurisdiction in which the property is located. \\u00b7 Any legal proceedings regarding this loan must be brought within the jurisdiction of that location.\",\n",
      "    \"16. Contact Information For any questions or clarifications regarding the house loan\": \", Borrowers can contact: \\u00b7 Customer Service: +1 (800) 123-4567 . Email: home.loans@contosobank.com \\u00b7 Address: Contoso Bank, 123 Main Street, City, Country\"\n",
      "}\n",
      "Data uploaded successfully to ContosoDB, container 'HouseLoanTerms': houseloan_terms_001\n"
     ]
    }
   ],
   "source": [
    " \n",
    "# Main Function\n",
    "# Main Function\n",
    "def main():\n",
    "    try:\n",
    "        # Step 1: Retrieve and analyze PDF\n",
    "        pdf_content = get_pdf_from_blob(\"house/houseloan.pdf\")\n",
    "        analyzed_result = analyze_pdf(pdf_content)\n",
    " \n",
    "        # Step 2: Process and clean extracted data\n",
    "        structured_data = process_analyzed_content(analyzed_result)\n",
    " \n",
    "        # Step 3: Upload structured data to Cosmos DB\n",
    "        if structured_data:  # Controllo se i dati estratti non sono vuoti\n",
    "            upload_to_cosmos_db(\n",
    "                data=structured_data,\n",
    "                container_name=\"HouseLoanTerms\",  # Contenitore per i termini dei prestiti\n",
    "                document_id=\"houseloan_terms_001\"  # ID univoco del documento\n",
    "            )\n",
    "        else:\n",
    "            print(\"No structured data extracted. Skipping upload.\")\n",
    "    except Exception as e:\n",
    "        print(f\"An error occurred: {e}\")\n",
    " \n",
    "if __name__ == \"__main__\":\n",
    "    main()"
   ]
  }
 ],
 "metadata": {
  "kernelspec": {
   "display_name": ".venv",
   "language": "python",
   "name": "python3"
  },
  "language_info": {
   "codemirror_mode": {
    "name": "ipython",
    "version": 3
   },
   "file_extension": ".py",
   "mimetype": "text/x-python",
   "name": "python",
   "nbconvert_exporter": "python",
   "pygments_lexer": "ipython3",
   "version": "3.9.6"
  }
 },
 "nbformat": 4,
 "nbformat_minor": 2
}
